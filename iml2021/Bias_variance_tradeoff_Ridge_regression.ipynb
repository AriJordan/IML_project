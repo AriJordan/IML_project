{
 "cells": [
  {
   "cell_type": "code",
   "execution_count": 63,
   "metadata": {
    "id": "sCpRV5wwmqiK"
   },
   "outputs": [
    {
     "name": "stdout",
     "output_type": "stream",
     "text": [
      "The autoreload extension is already loaded. To reload it, use:\n",
      "  %reload_ext autoreload\n"
     ]
    },
    {
     "data": {
      "text/html": [
       "<style>.container { width:100% !important; }</style>"
      ],
      "text/plain": [
       "<IPython.core.display.HTML object>"
      ]
     },
     "metadata": {},
     "output_type": "display_data"
    }
   ],
   "source": [
    "# Source: Alexandru Tifrea and Fanny Yang, 2021.\n",
    "\n",
    "# Python Notebook Commands\n",
    "%reload_ext autoreload\n",
    "%load_ext autoreload\n",
    "%autoreload 2\n",
    "\n",
    "from IPython.core.display import display, HTML\n",
    "display(HTML(\"<style>.container { width:100% !important; }</style>\"))\n",
    "\n",
    "from copy import deepcopy\n",
    "import numpy as np\n",
    "import time\n",
    "\n",
    "import plotly\n",
    "import plotly.graph_objects as go\n",
    "import plotly.express as px\n",
    "from plotly.subplots import make_subplots\n",
    "import plotly.io as pio\n",
    "\n",
    "import ipywidgets\n",
    "from ipywidgets import interact, interactive, interact_manual\n",
    "\n",
    "import sklearn\n",
    "from sklearn.linear_model import LinearRegression, Ridge\n",
    "from sklearn.model_selection import cross_val_score, GridSearchCV\n",
    "\n",
    "from utils import generate_data, generate_additional_data, compute_population_risk, compute_empirical_risk, repeat_experiment\n",
    "\n",
    "# Change these values if the images don't fit for your screen.\n",
    "figure_width=1200\n",
    "figure_height=500"
   ]
  },
  {
   "cell_type": "markdown",
   "metadata": {},
   "source": [
    "# Bias-variance trade-off for ridge regression"
   ]
  },
  {
   "cell_type": "markdown",
   "metadata": {},
   "source": [
    "We can estimate the bias and the variance of an estimator by sampling different training sets, and using a hold-out validation set to compute its empirical error.\n",
    "\n",
    "The stacked area plot below illustrates the decomposition of the risk into three terms: the squared bias, the variance, and irreducible noise."
   ]
  },
  {
   "cell_type": "code",
   "execution_count": 62,
   "metadata": {},
   "outputs": [
    {
     "data": {
      "application/vnd.jupyter.widget-view+json": {
       "model_id": "7bb36359f71a4393b4a5ee486a7aa5b3",
       "version_major": 2,
       "version_minor": 0
      },
      "text/plain": [
       "interactive(children=(FloatSlider(value=200.0, continuous_update=False, description='Number of samples:', max=…"
      ]
     },
     "metadata": {},
     "output_type": "display_data"
    }
   ],
   "source": [
    "validation_size = 1000\n",
    "num_trials = 5\n",
    "snr = 1\n",
    "\n",
    "all_noise_sigmas = [0, 0.1, 0.5, 1]\n",
    "\n",
    "def plot_bias_variance_for_ridge(n, d, noise_sigma):\n",
    "  ridge_coefficients = np.arange(0, 100, 1)\n",
    "  risks, squared_biases, variances = [], [], []\n",
    "  n, d = int(n), int(d)\n",
    "  \n",
    "  # Sample the validation set and one traing set for each of the trials.\n",
    "  X_validation, y_validation, beta_star, Sigma = generate_data(n=validation_size, d=d, snr=snr, noise_sigma=noise_sigma)\n",
    "  all_X, all_y = generate_additional_data(num_samples=n*num_trials, d=d, Sigma=Sigma, beta_star=beta_star, noise_sigma=noise_sigma)\n",
    "  for ridge_coef in ridge_coefficients:\n",
    "    validation_predictions, validation_bayes_predictions = [], []\n",
    "    \n",
    "    # Train num_trials estimators and use the validation set to estimate the bias and variance.\n",
    "    for i in range(num_trials):\n",
    "      start, end = i * n, (i + 1) * n\n",
    "      ridge_reg = Ridge(alpha=ridge_coef, fit_intercept=False).fit(all_X[start:end], all_y[start:end])\n",
    "      validation_predictions.append((X_validation @ ridge_reg.coef_.T).reshape(-1, 1))\n",
    "      validation_bayes_predictions.append((X_validation @ beta_star).reshape(-1, 1))\n",
    "      \n",
    "    validation_predictions, validation_bayes_predictions = np.array(validation_predictions), np.array(validation_bayes_predictions)\n",
    "    squared_biases.append(\n",
    "      np.power(validation_predictions.mean(axis=0) - validation_bayes_predictions, 2).mean()\n",
    "    )\n",
    "    variances.append(\n",
    "      np.power(validation_predictions - validation_predictions.mean(axis=0), 2).mean()\n",
    "    )\n",
    "    risks.append(\n",
    "      np.power(validation_predictions - y_validation, 2).mean()\n",
    "    )\n",
    "\n",
    "  fig = go.Figure()\n",
    "  fig.add_trace(go.Scatter(x=ridge_coefficients, y=np.ones_like(alphas) * noise_sigma**2, name=\"Irreducible noise\", \n",
    "                           marker_color=\"gray\", stackgroup='one'))\n",
    "  fig.add_trace(go.Scatter(x=ridge_coefficients, y=variances, name=\"Variance\", stackgroup='one'))\n",
    "  fig.add_trace(go.Scatter(x=ridge_coefficients, y=squared_biases, name=\"Bias<sup>2</sup>\", stackgroup='one'))\n",
    "  fig.add_trace(go.Scatter(x=ridge_coefficients, y=risks, name=\"Risk\", stackgroup='one'))\n",
    "\n",
    "  if noise_sigma == 0.5:\n",
    "    yaxis_range = [0, 1]\n",
    "  elif noise_sigma == 1:\n",
    "    yaxis_range = [0, 3]\n",
    "  else:\n",
    "    yaxis_range = [0, 0.1]\n",
    "  \n",
    "  fig.update_layout(\n",
    "    height=figure_height,\n",
    "    width=figure_width,\n",
    "    yaxis_range=yaxis_range,\n",
    "    yaxis_title=\"Risk / Bias / Variance\",\n",
    "    xaxis_title=\"Ridge coefficient\",\n",
    "    hovermode='x'\n",
    "  )\n",
    "  fig.show()\n",
    "  \n",
    "interact(plot_bias_variance_for_ridge,\n",
    "         n=ipywidgets.FloatSlider(value=200,\n",
    "                                  min=100,\n",
    "                                  max=500,\n",
    "                                  step=10,\n",
    "                                  readout_format='d',\n",
    "                                  description='Number of samples:',\n",
    "                                  style={'description_width': 'initial'},\n",
    "                                  continuous_update=False),\n",
    "         d=ipywidgets.FloatSlider(value=100,\n",
    "                                  min=10,\n",
    "                                  max=100,\n",
    "                                  step=10,\n",
    "                                  readout_format='d',\n",
    "                                  description='Data dimension:',\n",
    "                                  style={'description_width': 'initial'},\n",
    "                                  continuous_update=False),\n",
    "         noise_sigma=ipywidgets.Dropdown(options=all_noise_sigmas,\n",
    "                                         value=0.5,\n",
    "                                         description='Noise level:',\n",
    "                                         disabled=False,\n",
    "                                         style={'description_width': 'initial'},\n",
    "                                         continuous_update=True),);"
   ]
  },
  {
   "cell_type": "code",
   "execution_count": null,
   "metadata": {},
   "outputs": [],
   "source": []
  }
 ],
 "metadata": {
  "colab": {
   "name": "Bias-variance tradeoff - Ridge regression.ipynb",
   "provenance": []
  },
  "kernelspec": {
   "display_name": "Python 3",
   "language": "python",
   "name": "python3"
  },
  "language_info": {
   "codemirror_mode": {
    "name": "ipython",
    "version": 3
   },
   "file_extension": ".py",
   "mimetype": "text/x-python",
   "name": "python",
   "nbconvert_exporter": "python",
   "pygments_lexer": "ipython3",
   "version": "3.8.5"
  }
 },
 "nbformat": 4,
 "nbformat_minor": 1
}
